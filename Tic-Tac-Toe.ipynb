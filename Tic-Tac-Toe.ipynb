{
 "cells": [
  {
   "cell_type": "code",
   "execution_count": 1,
   "metadata": {},
   "outputs": [],
   "source": [
    "#replace numbers with x or o\n",
    "def replaceNumber(number, playerName, basicList):\n",
    "    #Determine whether the number is included (does not include continuing to ask for the correct number)\n",
    "    while (not str(number) in basicList):\n",
    "        if playerName == \"player1\":\n",
    "            number = input(\"please input correct number【player1: O】: \");   \n",
    "        else:\n",
    "            number = input(\"please input correct number【player2: X】: \");   \n",
    "    #The input value is compared with the value in the array to replace X and O\n",
    "    if (int(number) == int(basicList[int(number)-1])):\n",
    "        if playerName == \"player1\":\n",
    "            basicList[int(number)-1] = \"O\";\n",
    "        else:\n",
    "            basicList[int(number)-1] = \"X\";\n",
    "    return number;\n",
    "\n",
    "#arrList=[\"1\",\"2\",\"3\",\"4\",\"5\",\"6\",\"7\",\"8\",\"9\"];\n",
    "#number = input(\"please input number: \");   \n",
    "#replaceNumber(number,\"player2\")"
   ]
  },
  {
   "cell_type": "code",
   "execution_count": 2,
   "metadata": {},
   "outputs": [
    {
     "name": "stdout",
     "output_type": "stream",
     "text": [
      "True\n"
     ]
    }
   ],
   "source": [
    "#Determine whether it is successful (as long as the player's list has it)\n",
    "def isWinner(playerList):\n",
    "    #all possibilities\n",
    "    toWin = [(\"1\",\"2\",\"3\"),(\"4\",\"5\",\"6\"),(\"7\",\"8\",\"9\"),(\"1\",\"4\",\"7\"),(\"2\",\"5\",\"8\"),(\"3\",\"6\",\"9\"),(\"1\",\"5\",\"9\"),(\"3\",\"5\",\"7\")];\n",
    "    # If the possibility has a set of three numbers in the player array, win\n",
    "    if(len(playerList) >= 3):\n",
    "        for t in range(len(toWin)): \n",
    "             if(toWin[t][0] in playerList and toWin[t][1] in playerList and toWin[t][2] in playerList):\n",
    "                return True;\n",
    "    return False;\n",
    "\n",
    "player1 = [\"5\",\"1\",\"7\",\"3\"];          \n",
    "print(isWinner(player1))\n",
    "\n",
    "    \n",
    "    "
   ]
  },
  {
   "cell_type": "code",
   "execution_count": 3,
   "metadata": {},
   "outputs": [],
   "source": [
    "#show\n",
    "def show(arrList):\n",
    "    print(\"       __\"+arrList[0]+\"_|_\"+arrList[1]+\"_|_\"+arrList[2]+\"__\");\n",
    "    print(\"       __\"+arrList[3]+\"_|_\"+arrList[4]+\"_|_\"+arrList[5]+\"__\");\n",
    "    print(\"         \"+arrList[6]+\" | \"+arrList[7]+\" | \"+arrList[8]);\n",
    "    print(\"- player1:O;     player2:X\");"
   ]
  },
  {
   "cell_type": "code",
   "execution_count": 6,
   "metadata": {},
   "outputs": [
    {
     "name": "stdout",
     "output_type": "stream",
     "text": [
      "- welcome to game\n",
      "       __1_|_2_|_3__\n",
      "       __4_|_5_|_6__\n",
      "         7 | 8 | 9\n",
      "- player1:O;     player2:X\n",
      "please input number【player1: O】: 4\n",
      "       __1_|_2_|_3__\n",
      "       __O_|_5_|_6__\n",
      "         7 | 8 | 9\n",
      "- player1:O;     player2:X\n",
      "please input number【player2: X】: 5\n",
      "       __1_|_2_|_3__\n",
      "       __O_|_X_|_6__\n",
      "         7 | 8 | 9\n",
      "- player1:O;     player2:X\n",
      "please input number【player1: O】: 2\n",
      "       __1_|_O_|_3__\n",
      "       __O_|_X_|_6__\n",
      "         7 | 8 | 9\n",
      "- player1:O;     player2:X\n",
      "please input number【player2: X】: 1\n",
      "       __X_|_O_|_3__\n",
      "       __O_|_X_|_6__\n",
      "         7 | 8 | 9\n",
      "- player1:O;     player2:X\n",
      "please input number【player1: O】: 9\n",
      "       __X_|_O_|_3__\n",
      "       __O_|_X_|_6__\n",
      "         7 | 8 | O\n",
      "- player1:O;     player2:X\n",
      "please input number【player2: X】: 7\n",
      "       __X_|_O_|_3__\n",
      "       __O_|_X_|_6__\n",
      "         X | 8 | O\n",
      "- player1:O;     player2:X\n",
      "please input number【player1: O】: 3\n",
      "       __X_|_O_|_O__\n",
      "       __O_|_X_|_6__\n",
      "         X | 8 | O\n",
      "- player1:O;     player2:X\n",
      "please input number【player2: X】: 6\n",
      "       __X_|_O_|_O__\n",
      "       __O_|_X_|_X__\n",
      "         X | 8 | O\n",
      "- player1:O;     player2:X\n",
      "please input number【player1: O】: 8\n",
      "       __X_|_O_|_O__\n",
      "       __O_|_X_|_X__\n",
      "         X | O | O\n",
      "- player1:O;     player2:X\n",
      "draw!!!\n"
     ]
    }
   ],
   "source": [
    "import random;\n",
    "print(\"- welcome to game\");\n",
    "#Checkerboard\n",
    "basicList=[\"1\",\"2\",\"3\",\"4\",\"5\",\"6\",\"7\",\"8\",\"9\"];\n",
    "show(basicList);\n",
    "#player1 array\n",
    "player1=[];\n",
    "#player2 array\n",
    "player2=[];\n",
    "#Determine whether to jump out of the loop If someone wins, jump out of the loop\n",
    "win = False;\n",
    "#First and then (random)\n",
    "count = random.randint(0,1);\n",
    "\n",
    "\n",
    "\n",
    "#cycle\n",
    "while(not win):\n",
    "    # draw\n",
    "    if len(player1) + len(player2) == 9:\n",
    "        print(\"draw!!!\");\n",
    "        break;\n",
    "    if(count%2 == 0):\n",
    "        # start input\n",
    "        number = input(\"please input number【player1: O】: \");\n",
    "        # replace the dial and put the entered numbers into the player's array\n",
    "        player1.append(replaceNumber(number,\"player1\", basicList));\n",
    "        # Determine if it is successful\n",
    "        win = isWinner(player1);\n",
    "        if (win == True):\n",
    "            print(\"congratulation! player1 is winner\");\n",
    "            show(basicList);\n",
    "            break;\n",
    "    elif(count%2 == 1):\n",
    "        number = input(\"please input number【player2: X】: \");\n",
    "        player2.append(replaceNumber(number,\"player2\", basicList));\n",
    "        win = isWinner(player2);\n",
    "        if (win == True):\n",
    "            print(\"congratulation! player2 is winner\"); \n",
    "            show(basicList);\n",
    "            break;\n",
    "    count+=1;\n",
    "    show(basicList);\n",
    "    \n",
    "    \n",
    "    \n",
    "\n"
   ]
  }
 ],
 "metadata": {
  "kernelspec": {
   "display_name": "Python 3",
   "language": "python",
   "name": "python3"
  },
  "language_info": {
   "codemirror_mode": {
    "name": "ipython",
    "version": 3
   },
   "file_extension": ".py",
   "mimetype": "text/x-python",
   "name": "python",
   "nbconvert_exporter": "python",
   "pygments_lexer": "ipython3",
   "version": "3.7.6"
  },
  "latex_envs": {
   "LaTeX_envs_menu_present": true,
   "autoclose": false,
   "autocomplete": true,
   "bibliofile": "biblio.bib",
   "cite_by": "apalike",
   "current_citInitial": 1,
   "eqLabelWithNumbers": true,
   "eqNumInitial": 1,
   "hotkeys": {
    "equation": "Ctrl-E",
    "itemize": "Ctrl-I"
   },
   "labels_anchors": false,
   "latex_user_defs": false,
   "report_style_numbering": false,
   "user_envs_cfg": false
  }
 },
 "nbformat": 4,
 "nbformat_minor": 4
}
